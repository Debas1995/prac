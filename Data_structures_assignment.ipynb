{
  "nbformat": 4,
  "nbformat_minor": 0,
  "metadata": {
    "colab": {
      "provenance": []
    },
    "kernelspec": {
      "name": "python3",
      "display_name": "Python 3"
    },
    "language_info": {
      "name": "python"
    }
  },
  "cells": [
    {
      "cell_type": "markdown",
      "source": [
        "#**Theoretical** **question**"
      ],
      "metadata": {
        "id": "2SdeVo_MqI-9"
      }
    },
    {
      "cell_type": "markdown",
      "source": [
        "# Q1. What are data structures, and why are they important?\n",
        "\n",
        "* The Importance of Understanding Data Structures\n",
        "Data structures are formats that organize, store, and process data in a computer system.\n",
        "\n",
        "*   They are important because,\n",
        "\n",
        "1. Data Handling\n",
        "2. Organization\n",
        "3. efficiency\n",
        "4. Real-Word Analogy  \n",
        "\n",
        "\n",
        "\n",
        "\n",
        "\n",
        "\n",
        "\n",
        "\n",
        "\n",
        "\n",
        "\n",
        "\n",
        "\n",
        "\n"
      ],
      "metadata": {
        "id": "M0x8iKn9qizb"
      }
    },
    {
      "cell_type": "markdown",
      "source": [
        "# Q2.  Explain the difference between mutable and immutable data types with examples.\n",
        "\n",
        "*   Mutable Data types: These data types can be modified after they are created. For example, in Python, lists, dictionaries, and sets are mutable data types.\n",
        "*   Immutable Data Types: These data types cannot be changed after they are created. For example, in Python, strings, tuples, integers, and floats are immutable data types.\n",
        "\n"
      ],
      "metadata": {
        "id": "zqgCDwkpshN-"
      }
    },
    {
      "cell_type": "markdown",
      "source": [
        "# Q3.  What are the main differences between lists and tuples in Python?\n",
        "\n",
        "#Mutability\n",
        "Lists: Mutable, meaning they can be changed,  \n",
        "Tuples: Immutable, meaning they cannot be changed\n",
        "#Syntax\n",
        "Lists: Use square brackets,\n",
        "Tuples: Use round brackets or parenthesis\n",
        "#Performance\n",
        "Tuples: Use less memory and are faster to access than lists\n",
        "#Use cases\n",
        "Lists: Useful for deletion and insertion operations,\n",
        "Tuples: Useful for read-only operations, such as accessing elements\n",
        "#Other differences\n",
        "Lists have a dynamic length, while tuples have a fixed length.\n",
        "Lists have more built-in methods than tuples.\n",
        "Lists can be nested in other lists, and tuples can be nested in other tuples  \n",
        "\n",
        "\n"
      ],
      "metadata": {
        "id": "UAHzBfEUtcv2"
      }
    },
    {
      "cell_type": "markdown",
      "source": [
        "# Q4. Describe how dictionaries store data?\n",
        "\n",
        "*   Dictionaries are used to store data values in key:value pairs.\n",
        "\n",
        "\n"
      ],
      "metadata": {
        "id": "3K5ElcbsvWE_"
      }
    },
    {
      "cell_type": "markdown",
      "source": [
        "# Q5. Why might you use a set instead of a list in Python?\n",
        "\n",
        "*   Use a set instead of a list because set is an unordered collection of unique element, meaning a set does not allow any duplicate element.\n",
        "\n",
        "\n"
      ],
      "metadata": {
        "id": "eHY8EX5qvvU6"
      }
    },
    {
      "cell_type": "markdown",
      "source": [
        "# Q6. What is a string in Python, and how is it different from a list?\n",
        "\n",
        "*   A string is a sequence of characters between single or double quotes.\n",
        "\n",
        "*   A string is a sequence of characters and a list is a sequence of items  where each item could be anything (an integer, a float, a string, etc).\n",
        "\n",
        "\n"
      ],
      "metadata": {
        "id": "_Xc2NpJjwsid"
      }
    },
    {
      "cell_type": "markdown",
      "source": [
        "#Q7. How do tuples ensure data integrity in Python?\n",
        "\n",
        "*   Tuples are immutable to ensure that their contents remain constant throughout their lifecycle.\n",
        "\n"
      ],
      "metadata": {
        "id": "T_oAlItWxgpm"
      }
    },
    {
      "cell_type": "markdown",
      "source": [
        "# Q8. What is a hash table, and how does it relate to dictionaries in Python?\n",
        "\n",
        "*    A hash table is a data structure that stores key-value pairs in an associative array.\n",
        "*   In Python, a dictionary is a data type that implements a hash table.\n",
        "\n"
      ],
      "metadata": {
        "id": "O2CFAylqx04c"
      }
    }
  ]
}